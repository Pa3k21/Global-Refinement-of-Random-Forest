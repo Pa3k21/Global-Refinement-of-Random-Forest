{
 "cells": [
  {
   "cell_type": "markdown",
   "id": "69040730",
   "metadata": {},
   "source": [
    "Vrsta istraživanja prema : \n",
    "    a) svrsi: Primijenjeno istraživanje\n",
    "    b) izvoru informacija: Sekundarno istraživanje\n",
    "    c) vremenu provedbe: Studija presjeka ili sinkrono istraživanje\n",
    "    d) načinu prikupljanja: Mješovito istraživanje\n",
    "    e) vrsti korištenih podataka: Kvantitativno istraživanje\n",
    "    f) stupnju manipulacije varijablama: Eskperimentalno istraživanje\n",
    "    g) dubini: Korelacijsko istraživanje \n",
    "    h) vrsti zaključka: Deduktivno istraživanje\n",
    "    \n",
    "Metode kako su podaci za članak prikupljeni: dokumentarno istraživanje, studija slučaja, eksperiment.\n",
    "\n",
    "Podaci su prikupljeni i objavljeni prema pravilima istraživačke etike. Istraživači su djelovali u skladu sa zakonom, za vrijede rada su bili otvoreni i pošteni, nisu namještali rezultate i ozbiljno su shvatili pitanja osobne sigurnosti.\n",
    "\n"
   ]
  },
  {
   "cell_type": "code",
   "execution_count": 1,
   "id": "844bbdd5",
   "metadata": {},
   "outputs": [],
   "source": [
    "import gzip\n",
    "import numpy as np\n",
    "\n",
    "image_size = 28\n",
    "train_data_br = 60000\n",
    "test_data_br = 10000\n",
    "\n",
    "def readGzIm(path,number_of_im):\n",
    "    in_X = gzip.open(path,'r')\n",
    "    in_X.read(16)\n",
    "    buf_X = in_X.read(image_size*image_size*number_of_im)\n",
    "    X = np.frombuffer(buf_X, dtype=np.uint8).astype(np.float32)\n",
    "    X = X.reshape(number_of_im, image_size*image_size)\n",
    "    return X\n",
    "def readGzLab(path,number_of_lab):\n",
    "    in_Y = gzip.open(path,'r')\n",
    "    in_Y.read(8)\n",
    "    buf_Y = in_Y.read(1*number_of_lab)\n",
    "    Y = np.frombuffer(buf_Y, dtype=np.uint8).astype(np.float32)\n",
    "    Y = Y.reshape(number_of_lab)\n",
    "    return Y\n",
    "\n",
    "X = readGzIm('train-images-idx3-ubyte.gz', train_data_br)\n",
    "Y = readGzLab('train-labels.idx1-ubyte.gz', train_data_br)\n",
    "\n",
    "X_test = readGzIm('t10k-images-idx3-ubyte.gz', test_data_br)\n",
    "Y_test = readGzLab('t10k-labels-idx1-ubyte.gz', test_data_br)\n",
    "\n"
   ]
  },
  {
   "cell_type": "code",
   "execution_count": 2,
   "id": "98fde741",
   "metadata": {},
   "outputs": [],
   "source": [
    "tree_depth_size = [10,15,25]\n",
    "from sklearn.ensemble import RandomForestClassifier\n",
    "from sklearn.metrics import zero_one_loss\n",
    "\n"
   ]
  },
  {
   "cell_type": "code",
   "execution_count": 4,
   "id": "cbea01c3",
   "metadata": {},
   "outputs": [
    {
     "name": "stdout",
     "output_type": "stream",
     "text": [
      "mean: 0.03225, std: 0.00014999999999998348\n"
     ]
    }
   ],
   "source": [
    "errors = []\n",
    "for i in range(2):\n",
    "    clf = RandomForestClassifier(n_estimators=100,max_features=\"sqrt\",\n",
    "         max_depth=tree_depth_size[2],min_samples_split=5)\n",
    "    clf.fit(X,Y)\n",
    "    Y_pred = clf.predict(X_test)\n",
    "    error_rate = zero_one_loss(Y_test,Y_pred)\n",
    "    errors.append(error_rate)\n",
    "    \n",
    "print(\"mean: \" + str(np.mean(errors)) + \", std: \" + str(np.std(errors)))"
   ]
  },
  {
   "cell_type": "code",
   "execution_count": null,
   "id": "68e85d5a",
   "metadata": {},
   "outputs": [],
   "source": []
  }
 ],
 "metadata": {
  "kernelspec": {
   "display_name": "Python 3",
   "language": "python",
   "name": "python3"
  },
  "language_info": {
   "codemirror_mode": {
    "name": "ipython",
    "version": 3
   },
   "file_extension": ".py",
   "mimetype": "text/x-python",
   "name": "python",
   "nbconvert_exporter": "python",
   "pygments_lexer": "ipython3",
   "version": "3.8.8"
  }
 },
 "nbformat": 4,
 "nbformat_minor": 5
}
